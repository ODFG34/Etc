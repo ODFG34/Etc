{
 "cells": [
  {
   "cell_type": "markdown",
   "metadata": {},
   "source": [
    "# 2021.01.06 11:25분 기준\n",
    "## 내가 아는 정보 내에서 가장 최대 이익을 볼 때"
   ]
  },
  {
   "cell_type": "markdown",
   "metadata": {},
   "source": [
    "# Galaxy Tab S7"
   ]
  },
  {
   "cell_type": "code",
   "execution_count": 23,
   "metadata": {},
   "outputs": [],
   "source": [
    "price_gal7 = 729900"
   ]
  },
  {
   "cell_type": "markdown",
   "metadata": {},
   "source": [
    "# Galaxy Tab S7+"
   ]
  },
  {
   "cell_type": "code",
   "execution_count": 24,
   "metadata": {},
   "outputs": [],
   "source": [
    "price_gal7p = 977100"
   ]
  },
  {
   "cell_type": "code",
   "execution_count": 25,
   "metadata": {},
   "outputs": [],
   "source": [
    "buzz_live_sell = 130000\n",
    "buzz_live_buy = 49900"
   ]
  },
  {
   "cell_type": "code",
   "execution_count": 26,
   "metadata": {},
   "outputs": [
    {
     "data": {
      "text/plain": [
       "80100"
      ]
     },
     "execution_count": 26,
     "metadata": {},
     "output_type": "execute_result"
    }
   ],
   "source": [
    "buzz_live_gain = buzz_live_sell- buzz_live_buy\n",
    "buzz_live_gain"
   ]
  },
  {
   "cell_type": "code",
   "execution_count": 27,
   "metadata": {},
   "outputs": [],
   "source": [
    "price_gal7_re = price_gal7 - buzz_live_gain\n",
    "price_gal7p_re = price_gal7p - buzz_live_gain"
   ]
  },
  {
   "cell_type": "code",
   "execution_count": 28,
   "metadata": {},
   "outputs": [
    {
     "name": "stdout",
     "output_type": "stream",
     "text": [
      "Galaxy Tab S7 캠퍼스 할인 및 버즈라이브 판매 이익으로 인한 총 가격 :  649800\n",
      "Galaxy Tab S7 캠퍼스 할인 및 버즈라이브 판매 이익으로 인한 총 가격 :  897000\n"
     ]
    }
   ],
   "source": [
    "print(\"Galaxy Tab S7 캠퍼스 할인 및 버즈라이브 판매 이익으로 인한 총 가격 : \",price_gal7_re)\n",
    "print(\"Galaxy Tab S7 캠퍼스 할인 및 버즈라이브 판매 이익으로 인한 총 가격 : \",price_gal7p_re)"
   ]
  },
  {
   "cell_type": "markdown",
   "metadata": {},
   "source": [
    "## 삼캐플"
   ]
  },
  {
   "cell_type": "code",
   "execution_count": 14,
   "metadata": {},
   "outputs": [
    {
     "data": {
      "text/plain": [
       "127200"
      ]
     },
     "execution_count": 14,
     "metadata": {},
     "output_type": "execute_result"
    }
   ],
   "source": [
    "# 월 이용액 x 총 기간\n",
    "5300 * 24"
   ]
  },
  {
   "cell_type": "markdown",
   "metadata": {},
   "source": [
    "# IPad Air 4th"
   ]
  },
  {
   "cell_type": "markdown",
   "metadata": {},
   "source": [
    "### 애플 교육할인 스토어"
   ]
  },
  {
   "cell_type": "code",
   "execution_count": 34,
   "metadata": {},
   "outputs": [],
   "source": [
    "# ipad 가격\n",
    "ipad_price = 715000\n",
    "\n",
    "# apple care plus\n",
    "appcareplu = 89000 * 0.8\n",
    "\n",
    "# apple pencil\n",
    "ipad_pencil = 150000\n",
    "\n",
    "## airpod pro로 올리는 것은 아직 알 수 없음, 못 받을 수도 있음.\n",
    "ipad_airpod = 125000 "
   ]
  },
  {
   "cell_type": "code",
   "execution_count": 16,
   "metadata": {},
   "outputs": [
    {
     "data": {
      "text/plain": [
       "811200.0"
      ]
     },
     "execution_count": 16,
     "metadata": {},
     "output_type": "execute_result"
    }
   ],
   "source": [
    "ipad_total = ipad_price + appcareplu + ipad_pencil - ipad_airpod\n",
    "ipad_total"
   ]
  },
  {
   "cell_type": "markdown",
   "metadata": {},
   "source": [
    "## 2년 뒤 Ipad Air 4th 애케플로 판매 후 예상 가격\n",
    "### 현재 금리가 낮기에 2년 뒤 돈과 현재 돈은 큰 차이없다는 가정"
   ]
  },
  {
   "cell_type": "code",
   "execution_count": 35,
   "metadata": {},
   "outputs": [
    {
     "data": {
      "text/plain": [
       "740000"
      ]
     },
     "execution_count": 35,
     "metadata": {},
     "output_type": "execute_result"
    }
   ],
   "source": [
    "# ipad + apple pencil\n",
    "ipad_resell_price = 600000 + 140000\n",
    "ipad_resell_price"
   ]
  },
  {
   "cell_type": "code",
   "execution_count": 36,
   "metadata": {},
   "outputs": [
    {
     "data": {
      "text/plain": [
       "71200.0"
      ]
     },
     "execution_count": 36,
     "metadata": {},
     "output_type": "execute_result"
    }
   ],
   "source": [
    "# 내가 2년동안 사용한 가격\n",
    "ipad_total - ipad_resell_price"
   ]
  },
  {
   "cell_type": "markdown",
   "metadata": {},
   "source": [
    "# 케이스, 필름 등의 구매 가격은 같다고 가정"
   ]
  }
 ],
 "metadata": {
  "kernelspec": {
   "display_name": "Python 3",
   "language": "python",
   "name": "python3"
  },
  "language_info": {
   "codemirror_mode": {
    "name": "ipython",
    "version": 3
   },
   "file_extension": ".py",
   "mimetype": "text/x-python",
   "name": "python",
   "nbconvert_exporter": "python",
   "pygments_lexer": "ipython3",
   "version": "3.8.5"
  }
 },
 "nbformat": 4,
 "nbformat_minor": 4
}
